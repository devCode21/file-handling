{
  "nbformat": 4,
  "nbformat_minor": 0,
  "metadata": {
    "colab": {
      "provenance": []
    },
    "kernelspec": {
      "name": "python3",
      "display_name": "Python 3"
    },
    "language_info": {
      "name": "python"
    }
  },
  "cells": [
    {
      "cell_type": "markdown",
      "source": [
        "1 What is the difference between interpreted and compiled languages?\n",
        "         \n",
        "    In interpreter language the source code is executed line by line whereas in compiler it convert the source code to machine then it executes\n",
        "\n",
        "2  What is exception handling in Python?\n",
        "        \n",
        "        The execption handling helps handling the error and exception caused during execution\n",
        "\n",
        "3 What is the purpose of the finally block in exception handling?\n",
        "      \n",
        "       The finally make sure that the code in the block execute regardless of error occured or not in try block\n",
        "\n",
        "4  What is logging in Python?\n",
        "      \n",
        "      \n",
        "      Logging in Python refers to the process of recording messages related to the execution of a program.\n",
        "\n",
        "5 What is the significance of the __del__ method in Python\n",
        "       \n",
        "        The purpose of the __del__ method is to define how an object should clean up or release resources when it is about to be destroyed or garbage collected.\n",
        "\n",
        "6 What is the difference between import and from ... import in Python?\n",
        "            \n",
        "            when we use import module we import whole module whereas while using\n",
        "            from...import we just import the specific object required\n",
        "\n",
        "7 How can you handle multiple exceptions in Python\n",
        "           \n",
        "           there are mainly 2 ways you can handle all exception in single except block or else we can use different except blocks for it\n",
        "\n",
        "8 What is the purpose of the with statement when handling files in Python\n",
        "      \n",
        "      using with after execution  of code in with block it automatically closes the file\n",
        "\n",
        "9 What is the difference between multithreading and multiprocessing?\n",
        "       \n",
        "      multthreading is process in  which a specific task is divided in multiple thread in same processor to make execution faster whereas in multiprocessing we use differnet processor rather\n",
        "\n",
        "10 What are the advantages of using logging in a program?\n",
        "    \n",
        "       Logging allows for better debugging, error tracking, and monitoring by recording events at different severity levels. It provides persistent records, making it easier to diagnose issues in production, and offers more flexibility and control compared to using print() statements.\n",
        "\n",
        "11  What is memory management in Python ?\n",
        "      \n",
        "      Memory management in Python refers to the process of efficiently allocating, tracking, and freeing memory during the execution of a program.\n",
        "\n",
        "12 What are the basic steps involved in exception handling in Python?\n",
        "     the basic step are  using\n",
        "     1 try block -error are checked here if some error are seen it\n",
        "     2 exception block -it hanles the error\n",
        "     3 finally block\n",
        "13 Why is memory management important in Python\n",
        "     \n",
        "     1 efficent resource use\n",
        "     2 garbage collection\n",
        "     3 optimized perfomance\n",
        "     4 prevent memory leaks\n",
        "\n",
        "14What is the role of try and except in exception handling?\n",
        "\n",
        "         1Try -> you anticipate potential error in this block\n",
        "         2 exception-> when the error is seen in the try vlock it jumps and come to exception block where you define how should the exception/error should be handled\n",
        "\n",
        "\n",
        "15 How does Python's garbage collection system work?\n",
        "        \n",
        "        Reference Counting handles memory cleanup by deleting objects when their reference count drops to zero.\n",
        "        Cyclic Garbage Collection deals with cyclic references that reference each other but are no longer accessible.\n",
        "        The Generational Garbage Collector optimizes the process by handling newer objects more frequently.\n",
        "        The gc module gives developers control over the garbage collection process, allowing for manual tuning or forcing collection when needed.\n",
        "\n",
        "16 What is the purpose of the else block in exception handling ?\n",
        "         \n",
        "          the else block actually handle what should be done no error occured in try block\n",
        "\n",
        "17 What are the common logging levels in Python?\n",
        "         \n",
        "         DEBUG: Detailed diagnostic information, typically for developers.\n",
        "         INFO: General, high-level operational messages.\n",
        "         WARNING: Indicates something unexpected, but not necessarily a problem.\n",
        "         ERROR: More serious issues that affect functionality but can be handled.\n",
        "         CRITICAL: Severe errors that cause the program to stop or crash\n",
        "\n",
        "\n",
        "18  What is the difference between os.fork() and multiprocessing in Python?\n",
        "          \n",
        "           os.fork() is a low-level system call that works only on Unix-like systems, directly duplicating the current process. It gives more control but requires handling process synchronization and communication manually.\n",
        "\n",
        "           multiprocessing is a higher-level, cross-platform module that abstracts process management and communication. It is more versatile, easy to use, and suitable for CPU-bound tasks, offering tools for inter-process communication and synchronization.  \n",
        "\n",
        "19 What is the importance of closing a file in Python?\n",
        "           \n",
        "           if the file is not closed then the operation  perfromed on the file will not executed\n",
        "\n",
        "20 What is the difference between file.read() and file.readline() in Python?\n",
        "           \n",
        "            file.read() is for reading the entire content of the file at once, while file.readline() is for reading the file line-by-line.\n",
        "\n",
        "21  What is the logging module in Python used for ?\n",
        "             \n",
        "             The logging module in Python is used for generating log messages from your program\n",
        "\n",
        "22 What is the os module in Python used for in file handling?\n",
        "      it used to create file and delete file in the system\n",
        "\n",
        "23  What are the challenges associated with memory management in Python?\n",
        "    \n",
        "\n",
        "        While Python’s memory management system (including reference counting and garbage collection) handles a lot of tasks automatically, there are several challenges to consider, especially in performance-critical or long-running applications. Memory leaks, inefficient garbage collection, memory fragmentation, and the impact of the GIL are some of the issues developers need to be aware of and optimize for, particularly when dealing with large datasets, multi-threading, or long-term applications.\n",
        "\n",
        "24  How do you raise an exception manually in Python ?\n",
        "           \n",
        "          The raise statement allows you to raise exceptions when your program encounters a specific condition or error.\n",
        "          You can raise built-in exceptions (like ValueError, TypeError, etc.) or create your own custom exceptions.\n",
        "  \n",
        "25 Why is it important to use multithreading in certain applications?\n",
        "     \n",
        "      It allows a program to perform multiple tasks concurrently within a single process by using multiple threads of execution. This is particularly useful in situations where tasks can run independently of each other or can be parallelized, improving the overall efficiency of the application.\n",
        "\n",
        "      "
      ],
      "metadata": {
        "id": "WbAaHEsNYY3q"
      }
    },
    {
      "cell_type": "code",
      "source": [
        "# 1 How can you open a file for writing in Python and write a string to it?\n",
        "with open('a.txt','w') as f:\n",
        "   f.write(\"abcd  \\n abcd  abcd \")\n"
      ],
      "metadata": {
        "id": "e8KVX3RgkDG5"
      },
      "execution_count": 4,
      "outputs": []
    },
    {
      "cell_type": "code",
      "source": [
        "#2  Write a Python program to read the contents of a file and print each line?\n",
        "with open('a.txt','r') as f:\n",
        "   a=[line.strip() for line in f.readlines()]\n",
        "\n",
        "print(a)"
      ],
      "metadata": {
        "colab": {
          "base_uri": "https://localhost:8080/"
        },
        "id": "L6Tf6h7-lL_M",
        "outputId": "29807526-b0c3-43cc-9e91-a123276e85ed"
      },
      "execution_count": 5,
      "outputs": [
        {
          "output_type": "stream",
          "name": "stdout",
          "text": [
            "['abcd', 'abcd  abcd']\n"
          ]
        }
      ]
    },
    {
      "cell_type": "code",
      "source": [
        "#3  How would you handle a case where the file doesn't exist while trying to open it for reading?\n",
        "try :\n",
        "   with open('ab.txt','r') as f:\n",
        "    print(f)\n",
        "except Exception as e:\n",
        "    print(e)\n",
        "\n",
        "\n",
        "\n",
        "\n"
      ],
      "metadata": {
        "colab": {
          "base_uri": "https://localhost:8080/"
        },
        "id": "ujIcbR1El7iq",
        "outputId": "942daf7b-668c-432f-abfe-566014793330"
      },
      "execution_count": 6,
      "outputs": [
        {
          "output_type": "stream",
          "name": "stdout",
          "text": [
            "[Errno 2] No such file or directory: 'ab.txt'\n"
          ]
        }
      ]
    },
    {
      "cell_type": "code",
      "source": [
        "#4  Write a Python script that reads from one file and writes its content to another file\n",
        "with open('a1.txt', 'w') as a:\n",
        "  with open('a.txt','r') as f:\n",
        "    for i in  f.readlines():\n",
        "      a.write(i)\n"
      ],
      "metadata": {
        "id": "Ue8rkrfbmrBZ"
      },
      "execution_count": 7,
      "outputs": []
    },
    {
      "cell_type": "code",
      "source": [
        "#5 How would you catch and handle division by zero error in Python\n",
        "try:\n",
        "  a=10/0\n",
        "except ZeroDivisionError as e:\n",
        "   print('error is ',e)"
      ],
      "metadata": {
        "colab": {
          "base_uri": "https://localhost:8080/"
        },
        "id": "CA7ywBdwnfgE",
        "outputId": "136a0e79-ffee-49dc-9839-a1e7314b75ca"
      },
      "execution_count": 8,
      "outputs": [
        {
          "output_type": "stream",
          "name": "stdout",
          "text": [
            "error is  division by zero\n"
          ]
        }
      ]
    },
    {
      "cell_type": "code",
      "source": [
        "#6  Write a Python program that logs an error message to a log file when a division by zero exception occurs ?\n",
        "import logging\n",
        "\n",
        "# Set up logging configuration\n",
        "logging.basicConfig(\n",
        "    filename='error_log.txt',  # Log file name\n",
        "    level=logging.ERROR,       # Log level\n",
        "    format='%(asctime)s - %(levelname)s - %(message)s',  # Log format\n",
        ")\n",
        "\n",
        "def divide_numbers(a, b):\n",
        "    try:\n",
        "        result = a / b\n",
        "        print(f\"Result of division: {result}\")\n",
        "    except ZeroDivisionError as e:\n",
        "        logging.error(f\"Error: Division by zero occurred. {e}\")\n",
        "\n",
        "# Test the function\n",
        "divide_numbers(10, 0)  # This will trigger a division by zero exception\n"
      ],
      "metadata": {
        "colab": {
          "base_uri": "https://localhost:8080/"
        },
        "id": "ddRGikv7IKoP",
        "outputId": "f15436ea-e9c3-4f99-b588-3b9d419f7ad3"
      },
      "execution_count": 9,
      "outputs": [
        {
          "output_type": "stream",
          "name": "stderr",
          "text": [
            "ERROR:root:Error: Division by zero occurred. division by zero\n"
          ]
        }
      ]
    },
    {
      "cell_type": "code",
      "source": [
        "#  How do you log information at different levels (INFO, ERROR, WARNING) in Python using the logging module ?\n",
        "\n",
        "import logging\n",
        "\n",
        "# Set up logging configuration\n",
        "logging.basicConfig(\n",
        "    filename='app_log.txt',  # Log file name\n",
        "    level=logging.DEBUG,     # Log level (captures DEBUG and higher levels)\n",
        "    format='%(asctime)s - %(levelname)s - %(message)s',  # Log format\n",
        ")\n",
        "\n",
        "# Logging different levels\n",
        "logging.debug(\"This is a debug message. It’s used for diagnosing problems.\")\n",
        "logging.info(\"This is an info message. It’s used for general system information.\")\n",
        "logging.warning(\"This is a warning message. Something unexpected happened.\")\n",
        "logging.error(\"This is an error message. A function failed.\")\n",
        "logging.critical(\"This is a critical message. Something major went wrong.\")\n",
        "\n",
        "# Example of a function with logging\n",
        "def divide_numbers(a, b):\n",
        "    if b == 0:\n",
        "        logging.error(\"Error: Division by zero is not allowed.\")\n",
        "        return None\n",
        "    else:\n",
        "        logging.info(f\"Performing division of {a} by {b}.\")\n",
        "        return a / b\n",
        "\n",
        "# Test the divide function\n",
        "divide_numbers(10, 0)  # This will log an ERROR message\n",
        "divide_numbers(10, 2)  # This will log an INFO message\n"
      ],
      "metadata": {
        "colab": {
          "base_uri": "https://localhost:8080/"
        },
        "id": "V-CWg3FdIgyT",
        "outputId": "2206be0d-a219-4239-dec7-82c1018f7596"
      },
      "execution_count": 10,
      "outputs": [
        {
          "output_type": "stream",
          "name": "stderr",
          "text": [
            "WARNING:root:This is a warning message. Something unexpected happened.\n",
            "ERROR:root:This is an error message. A function failed.\n",
            "CRITICAL:root:This is a critical message. Something major went wrong.\n",
            "ERROR:root:Error: Division by zero is not allowed.\n"
          ]
        },
        {
          "output_type": "execute_result",
          "data": {
            "text/plain": [
              "5.0"
            ]
          },
          "metadata": {},
          "execution_count": 10
        }
      ]
    },
    {
      "cell_type": "code",
      "source": [
        "# Write a program to handle a file opening error using exception handling\n",
        "\n",
        "try:\n",
        "\n",
        "    with open('example.txt', 'r') as file:\n",
        "        content = file.read()\n",
        "        print(content)\n",
        "\n",
        "except FileNotFoundError:\n",
        "\n",
        "    print(\"Error: The file 'example.txt' was not found.\")\n",
        "\n",
        "except Exception as e:\n",
        "\n",
        "    print(f\"An unexpected error occurred: {e}\")\n"
      ],
      "metadata": {
        "colab": {
          "base_uri": "https://localhost:8080/"
        },
        "id": "Km5O8XQeIupj",
        "outputId": "03dda748-ee1a-4b68-854e-45b66b2f3daa"
      },
      "execution_count": 11,
      "outputs": [
        {
          "output_type": "stream",
          "name": "stdout",
          "text": [
            "Error: The file 'example.txt' was not found.\n"
          ]
        }
      ]
    },
    {
      "cell_type": "code",
      "source": [
        "#  How can you read a file line by line and store its content in a list in Python\n",
        "with open('a.txt',\"r\") as f:\n",
        "  lis=[line.strip() for line in f.readlines()]\n",
        "  print(lis)"
      ],
      "metadata": {
        "colab": {
          "base_uri": "https://localhost:8080/"
        },
        "id": "TKt_nM1MJL4-",
        "outputId": "4432c2a4-d0fc-4f2c-a66c-4fa1f95e8d71"
      },
      "execution_count": 14,
      "outputs": [
        {
          "output_type": "stream",
          "name": "stdout",
          "text": [
            "['abcd', 'abcd  abcd']\n"
          ]
        }
      ]
    },
    {
      "cell_type": "markdown",
      "source": [],
      "metadata": {
        "id": "jaFgguV5l5xt"
      }
    },
    {
      "cell_type": "code",
      "source": [
        "#  How can you append data to an existing file in Python\n",
        "with open('a.txt','a') as f:\n",
        "  f.write(' adbc')\n",
        "\n",
        "with open('a.txt','r') as f:\n",
        "  print(f.read())"
      ],
      "metadata": {
        "colab": {
          "base_uri": "https://localhost:8080/"
        },
        "id": "5BJPphboJyXf",
        "outputId": "81e73ea8-6849-4daf-8d22-913f24c4df41"
      },
      "execution_count": 17,
      "outputs": [
        {
          "output_type": "stream",
          "name": "stdout",
          "text": [
            "abcd  \n",
            " abcd  abcd adbcadbc adbc\n"
          ]
        }
      ]
    },
    {
      "cell_type": "code",
      "source": [
        "# Write a Python program that uses a try-except block to handle an error when attempting to access a\n",
        "# dictionary key that doesn't exist\n",
        "d={\"a\":1}\n",
        "try:\n",
        "  a=d['b']\n",
        "except KeyError as e:\n",
        "  print('The key value doesnot exist at', e)"
      ],
      "metadata": {
        "colab": {
          "base_uri": "https://localhost:8080/"
        },
        "id": "BdaINkLnKLab",
        "outputId": "b0950d2f-abbd-42e1-a211-c756b25844c2"
      },
      "execution_count": 20,
      "outputs": [
        {
          "output_type": "stream",
          "name": "stdout",
          "text": [
            "The key value doesnot exist at 'b'\n"
          ]
        }
      ]
    },
    {
      "cell_type": "code",
      "source": [
        "#  Write a program that demonstrates using multiple except blocks to handle different types of exceptions\n",
        "try:\n",
        "\n",
        "    with open('example.txt', 'r') as file:\n",
        "        content = file.read()\n",
        "        print(content)\n",
        "\n",
        "except FileNotFoundError:\n",
        "\n",
        "    print(\"Error: The file 'example.txt' was not found.\")\n",
        "\n",
        "except Exception as e:\n",
        "\n",
        "    print(f\"An unexpected error occurred: {e}\")\n"
      ],
      "metadata": {
        "id": "mpnu_gLsKn2L"
      },
      "execution_count": null,
      "outputs": []
    },
    {
      "cell_type": "code",
      "source": [
        "# How would you check if a file exists before attempting to read it in Python\n",
        "import os\n",
        "\n",
        "if(os.path.exists('a2.txt')):\n",
        "  print('file exist')\n",
        "else:\n",
        "  print('file doesnot exist')"
      ],
      "metadata": {
        "colab": {
          "base_uri": "https://localhost:8080/"
        },
        "id": "_7WqrhxGKtUN",
        "outputId": "7b1c58a4-8908-465e-8594-c25db122cd33"
      },
      "execution_count": 22,
      "outputs": [
        {
          "output_type": "stream",
          "name": "stdout",
          "text": [
            "file doesnot exist\n"
          ]
        }
      ]
    },
    {
      "cell_type": "code",
      "source": [
        "# Write a program that uses the logging module to log both informational and error messages\n",
        "import logging\n",
        "\n",
        "\n",
        "logging.basicConfig(\n",
        "    level=logging.DEBUG,  # Log messages with level DEBUG or higher\n",
        "    format='%(asctime)s - %(levelname)s - %(message)s',  # Include timestamp, log level, and message\n",
        "    handlers=[\n",
        "        logging.FileHandler('app.log'),  # Log to a file called app.log\n",
        "        logging.StreamHandler()  # Also log to the console\n",
        "    ]\n",
        ")\n",
        "\n",
        "# Log an informational message\n",
        "logging.info('This is an informational message.')\n",
        "\n",
        "# Log a warning message\n",
        "logging.warning('This is a warning message.')\n",
        "\n",
        "# Log an error message\n",
        "logging.error('This is an error message.')\n",
        "\n",
        "# Log a critical message\n",
        "logging.critical('This is a critical message.')\n",
        "\n",
        "# Simulating a potential error and logging it\n",
        "try:\n",
        "    result = 10 / 0  # This will raise a ZeroDivisionError\n",
        "except ZeroDivisionError as e:\n",
        "    logging.error(f'Error occurred: {e}')\n",
        "\n"
      ],
      "metadata": {
        "id": "OKQB6IA8LESi"
      },
      "execution_count": 23,
      "outputs": []
    },
    {
      "cell_type": "code",
      "source": [
        "#  Write a Python program that prints the content of a file and handles the case when the file is empty\n",
        "\n",
        "def read_file(file_path):\n",
        "    try:\n",
        "        # Open the file in read mode\n",
        "        with open(file_path, 'r') as file:\n",
        "            content = file.read()\n",
        "\n",
        "            # Check if the file is empty\n",
        "            if not content:\n",
        "                print(\"The file is empty.\")\n",
        "            else:\n",
        "                print(\"File content:\")\n",
        "                print(content)\n",
        "\n",
        "    except FileNotFoundError:\n",
        "        print(f\"Error: The file '{file_path}' was not found.\")\n",
        "    except Exception as e:\n",
        "        print(f\"An unexpected error occurred: {e}\")\n",
        "\n",
        "# Specify the path to the file\n",
        "file_path = 'example.txt'\n",
        "\n",
        "# Call the function to read and display file content\n",
        "read_file(file_path)\n"
      ],
      "metadata": {
        "id": "sZwz5fY1LOmS"
      },
      "execution_count": null,
      "outputs": []
    },
    {
      "cell_type": "code",
      "source": [
        "# Demonstrate how to use memory profiling to check the memory usage of a small program\n",
        "\n",
        "from memory_profiler import profile\n",
        "\n",
        "@profile\n",
        "def my_function():\n",
        "    a = [i for i in range(10000)]  # Creating a list of 10,000 integers\n",
        "    b = [i * 2 for i in a]         # Creating another list with doubled values\n",
        "    c = sum(b)                     # Summing the values of list b\n",
        "    return c\n",
        "\n",
        "if __name__ == '__main__':\n",
        "    my_function()\n"
      ],
      "metadata": {
        "colab": {
          "base_uri": "https://localhost:8080/"
        },
        "id": "Ramx-VqPMQ4A",
        "outputId": "93bb471d-87f8-4013-dde8-1cb14c215629"
      },
      "execution_count": 27,
      "outputs": [
        {
          "output_type": "stream",
          "name": "stdout",
          "text": [
            "ERROR: Could not find file <ipython-input-27-7ccf95bb4092>\n",
            "NOTE: %mprun can only be used on functions defined in physical files, and not in the IPython environment.\n"
          ]
        }
      ]
    },
    {
      "cell_type": "code",
      "source": [
        "\n",
        "# Write a Python program to create and write a list of numbers to a file, one number per line\n",
        "\n",
        "with open('a21.txt', 'w') as m:\n",
        "  for i in range(1,10):\n",
        "    m.write(str(i))\n",
        "    m.write('\\n')\n",
        "\n",
        "with open('a21.txt','r') as f:\n",
        "  print(f.read())"
      ],
      "metadata": {
        "colab": {
          "base_uri": "https://localhost:8080/"
        },
        "id": "FlDJtU8cMa3_",
        "outputId": "e5d6b588-7cd6-4600-eb7b-96ff136e6dc5"
      },
      "execution_count": 42,
      "outputs": [
        {
          "output_type": "stream",
          "name": "stdout",
          "text": [
            "1\n",
            "2\n",
            "3\n",
            "4\n",
            "5\n",
            "6\n",
            "7\n",
            "8\n",
            "9\n",
            "\n"
          ]
        }
      ]
    },
    {
      "cell_type": "code",
      "source": [
        "#  Write a program that handles both IndexError and KeyError using a try-except block\n",
        "def handle_errors():\n",
        "    # Example data\n",
        "    my_list = [1, 2, 3]\n",
        "    my_dict = {'a': 1, 'b': 2, 'c': 3}\n",
        "\n",
        "    try:\n",
        "        # Trying to access an element in the list that may cause IndexError\n",
        "        print(my_list[5])  # IndexError because the index 5 doesn't exist in the list\n",
        "\n",
        "        # Trying to access a key in the dictionary that may cause KeyError\n",
        "        print(my_dict['d'])  # KeyError because 'd' is not a valid key in the dictionary\n",
        "\n",
        "    except (IndexError, KeyError) as e:\n",
        "        print(f\"Error: {e} - A problem occurred with either list index or dictionary key.\")\n",
        "\n",
        "    except Exception as e:\n",
        "        print(f\"An unexpected error occurred: {e}\")\n",
        "\n",
        "# Call the function to test the error handling\n",
        "handle_errors()\n"
      ],
      "metadata": {
        "id": "2fD1UoqFNa-9"
      },
      "execution_count": null,
      "outputs": []
    },
    {
      "cell_type": "code",
      "source": [
        "#  How would you open a file and read its contents using a context manager in Python\n",
        "# Open the file using the context manager\n",
        "file_path = 'example.txt'\n",
        "\n",
        "with open(file_path, 'r') as file:\n",
        "    # Read the contents of the file\n",
        "    content = file.read()\n",
        "    print(content)\n",
        "\n",
        "\n"
      ],
      "metadata": {
        "id": "7SfDHlt5NuzK"
      },
      "execution_count": null,
      "outputs": []
    },
    {
      "cell_type": "code",
      "source": [
        "#  Write a Python program that reads a file and prints the number of occurrences of a all word\n",
        "\n",
        "dict1={}\n",
        "\n",
        "with open ('a.txt', 'r') as f:\n",
        "  for line in f.readlines():\n",
        "    for words in line:\n",
        "        if words in dict1:\n",
        "          dict1[words]+=1\n",
        "        else:\n",
        "          dict1[words]=1\n",
        "print(dict1)\n",
        ""
      ],
      "metadata": {
        "colab": {
          "base_uri": "https://localhost:8080/"
        },
        "id": "Pqq8N-mNN4E0",
        "outputId": "9c571ff0-4994-46bc-f6b0-698f2412b870"
      },
      "execution_count": 38,
      "outputs": [
        {
          "output_type": "stream",
          "name": "stdout",
          "text": [
            "{'a': 6, 'b': 6, 'c': 6, 'd': 6, ' ': 7, '\\n': 1}\n"
          ]
        }
      ]
    },
    {
      "cell_type": "code",
      "source": [
        "#  How can you check if a file is empty before attempting to read its contents\n",
        "import os\n",
        "\n",
        "def read_file_if_not_empty(file_path):\n",
        "    # Check if the file exists and is not empty\n",
        "    if os.path.exists(file_path) and os.stat(file_path).st_size > 0:\n",
        "        # If the file is not empty, open it and read its content\n",
        "        with open(file_path, 'r') as file:\n",
        "            content = file.read()\n",
        "            print(content)\n",
        "    else:\n",
        "        print(f\"The file '{file_path}' is empty or does not exist.\")\n",
        "\n",
        "# Example usage\n",
        "file_path = 'example.txt'\n",
        "read_file_if_not_empty(file_path)\n"
      ],
      "metadata": {
        "colab": {
          "base_uri": "https://localhost:8080/"
        },
        "id": "oLFAGYbfO0Hl",
        "outputId": "f3543e27-f8e7-4ae6-8cf9-e881092aa52e"
      },
      "execution_count": 41,
      "outputs": [
        {
          "output_type": "stream",
          "name": "stdout",
          "text": [
            "The file 'example.txt' is empty or does not exist.\n"
          ]
        }
      ]
    },
    {
      "cell_type": "code",
      "source": [
        "# Write a Python program that writes to a log file when an error occurs during file handling.\n",
        "\n",
        "import logging\n",
        "\n",
        "# Configure the logging setup to log to a file\n",
        "logging.basicConfig(\n",
        "    filename='file_handling_errors.log',  # Log file to write errors\n",
        "    level=logging.ERROR,  # Only log errors and above\n",
        "    format='%(asctime)s - %(levelname)s - %(message)s'  # Log format with timestamp\n",
        ")\n",
        "\n",
        "def handle_file_operations(file_path, mode, content=None):\n",
        "    try:\n",
        "        if mode == 'r':\n",
        "            # Attempting to read from the file\n",
        "            with open(file_path, 'r') as file:\n",
        "                file_content = file.read()\n",
        "                print(file_content)\n",
        "\n",
        "        elif mode == 'w' and content is not None:\n",
        "            # Attempting to write to the file\n",
        "            with open(file_path, 'w') as file:\n",
        "                file.write(content)\n",
        "                print(\"Content written to the file.\")\n",
        "\n",
        "        else:\n",
        "            raise ValueError(\"Invalid mode or missing content for writing.\")\n",
        "\n",
        "    except FileNotFoundError as e:\n",
        "        logging.error(f\"FileNotFoundError: {e} - The file '{file_path}' was not found.\")\n",
        "\n",
        "    except PermissionError as e:\n",
        "        logging.error(f\"PermissionError: {e} - You do not have permission to access '{file_path}'.\")\n",
        "\n",
        "    except ValueError as e:\n",
        "        logging.error(f\"ValueError: {e}\")\n",
        "\n",
        "    except Exception as e:\n",
        "        logging.error(f\"Unexpected error occurred: {e}\")\n",
        "\n",
        "# Example usage:\n",
        "# Try reading from a non-existent file (will log error)\n",
        "handle_file_operations('non_existent_file.txt', 'r')\n",
        "\n",
        "# Try writing to a file (will create the file if it doesn't exist)\n",
        "handle_file_operations('example_file.txt', 'w', 'This is some content to write.')\n"
      ],
      "metadata": {
        "colab": {
          "base_uri": "https://localhost:8080/"
        },
        "id": "JiAm_3eIOtck",
        "outputId": "c90a0fb9-b5f1-43b7-fb20-0b98cc7ea4c9"
      },
      "execution_count": 40,
      "outputs": [
        {
          "output_type": "stream",
          "name": "stderr",
          "text": [
            "ERROR:root:FileNotFoundError: [Errno 2] No such file or directory: 'non_existent_file.txt' - The file 'non_existent_file.txt' was not found.\n"
          ]
        },
        {
          "output_type": "stream",
          "name": "stdout",
          "text": [
            "Content written to the file.\n"
          ]
        }
      ]
    }
  ]
}